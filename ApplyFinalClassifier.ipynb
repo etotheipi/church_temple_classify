{
 "cells": [
  {
   "cell_type": "markdown",
   "metadata": {},
   "source": [
    "## Notebook for Running the Final Model\n",
    "Since we don't expect to have answers here, we can't do much except display a few images for each class that we predict, and some metrics."
   ]
  },
  {
   "cell_type": "code",
   "execution_count": 1,
   "metadata": {},
   "outputs": [],
   "source": [
    "%load_ext autoreload\n",
    "%autoreload 2"
   ]
  },
  {
   "cell_type": "markdown",
   "metadata": {},
   "source": [
    "-----"
   ]
  },
  {
   "cell_type": "code",
   "execution_count": 29,
   "metadata": {},
   "outputs": [],
   "source": [
    "directory_to_process = 'e2e_tests/test_fold_0_rand_click'"
   ]
  },
  {
   "cell_type": "markdown",
   "metadata": {},
   "source": [
    "-----"
   ]
  },
  {
   "cell_type": "code",
   "execution_count": 23,
   "metadata": {},
   "outputs": [],
   "source": [
    "from final_model import ChurchTempleClassifier"
   ]
  },
  {
   "cell_type": "code",
   "execution_count": 24,
   "metadata": {},
   "outputs": [
    {
     "name": "stdout",
     "output_type": "stream",
     "text": [
      "Using already-downloaded model file: rotation_detect_xcept_logreg.clf\n",
      "Using already-downloaded model file: church_temple_classify_weights.hdf5\n",
      "Loading main classifier weights:  church_temple_classify_weights.hdf5\n"
     ]
    }
   ],
   "source": [
    "# This will download the model files from S3 the first time it is run:\n",
    "clf = ChurchTempleClassifier()"
   ]
  },
  {
   "cell_type": "code",
   "execution_count": 30,
   "metadata": {
    "scrolled": true
   },
   "outputs": [
    {
     "name": "stdout",
     "output_type": "stream",
     "text": [
      "Processing all images in directory: e2e_tests/test_fold_0_rand_click\n",
      "Image (1, 299, 299, 3) was rotated 2 clicks.  Rotating it to normal orientation.\n",
      "Image (1, 299, 299, 3) was rotated 1 clicks.  Rotating it to normal orientation.\n",
      "Image (1, 299, 299, 3) was rotated 1 clicks.  Rotating it to normal orientation.\n",
      "Image (1, 299, 299, 3) was rotated 2 clicks.  Rotating it to normal orientation.\n",
      "Image (1, 299, 299, 3) was rotated 3 clicks.  Rotating it to normal orientation.\n",
      "Image (1, 299, 299, 3) was rotated 1 clicks.  Rotating it to normal orientation.\n",
      "Image (1, 299, 299, 3) was rotated 2 clicks.  Rotating it to normal orientation.\n",
      "Image (1, 299, 299, 3) was rotated 3 clicks.  Rotating it to normal orientation.\n",
      "Image (1, 299, 299, 3) was rotated 2 clicks.  Rotating it to normal orientation.\n",
      "Image (1, 299, 299, 3) was rotated 1 clicks.  Rotating it to normal orientation.\n",
      "Image (1, 299, 299, 3) was rotated 1 clicks.  Rotating it to normal orientation.\n",
      "Image (1, 299, 299, 3) was rotated 3 clicks.  Rotating it to normal orientation.\n",
      "Image (1, 299, 299, 3) was rotated 2 clicks.  Rotating it to normal orientation.\n",
      "Image (1, 299, 299, 3) was rotated 2 clicks.  Rotating it to normal orientation.\n",
      "Image (1, 299, 299, 3) was rotated 1 clicks.  Rotating it to normal orientation.\n",
      "Image (1, 299, 299, 3) was rotated 3 clicks.  Rotating it to normal orientation.\n",
      "Image (1, 299, 299, 3) was rotated 1 clicks.  Rotating it to normal orientation.\n",
      "Image (1, 299, 299, 3) was rotated 1 clicks.  Rotating it to normal orientation.\n",
      "Image (1, 299, 299, 3) was rotated 3 clicks.  Rotating it to normal orientation.\n",
      "Image (1, 299, 299, 3) was rotated 1 clicks.  Rotating it to normal orientation.\n",
      "Image (1, 299, 299, 3) was rotated 3 clicks.  Rotating it to normal orientation.\n",
      "Image (1, 299, 299, 3) was rotated 1 clicks.  Rotating it to normal orientation.\n",
      "Image (1, 299, 299, 3) was rotated 1 clicks.  Rotating it to normal orientation.\n",
      "Image (1, 299, 299, 3) was rotated 1 clicks.  Rotating it to normal orientation.\n",
      "Image (1, 299, 299, 3) was rotated 1 clicks.  Rotating it to normal orientation.\n",
      "Image (1, 299, 299, 3) was rotated 1 clicks.  Rotating it to normal orientation.\n",
      "Image (1, 299, 299, 3) was rotated 2 clicks.  Rotating it to normal orientation.\n",
      "Image (1, 299, 299, 3) was rotated 3 clicks.  Rotating it to normal orientation.\n",
      "Image (1, 299, 299, 3) was rotated 2 clicks.  Rotating it to normal orientation.\n",
      "Image (1, 299, 299, 3) was rotated 2 clicks.  Rotating it to normal orientation.\n",
      "Image (1, 299, 299, 3) was rotated 3 clicks.  Rotating it to normal orientation.\n",
      "Image (1, 299, 299, 3) was rotated 1 clicks.  Rotating it to normal orientation.\n",
      "Image (1, 299, 299, 3) was rotated 2 clicks.  Rotating it to normal orientation.\n",
      "Image (1, 299, 299, 3) was rotated 1 clicks.  Rotating it to normal orientation.\n",
      "Image (1, 299, 299, 3) was rotated 1 clicks.  Rotating it to normal orientation.\n",
      "Image (1, 299, 299, 3) was rotated 2 clicks.  Rotating it to normal orientation.\n",
      "Image (1, 299, 299, 3) was rotated 1 clicks.  Rotating it to normal orientation.\n",
      "Image (1, 299, 299, 3) was rotated 1 clicks.  Rotating it to normal orientation.\n",
      "Image (1, 299, 299, 3) was rotated 3 clicks.  Rotating it to normal orientation.\n",
      "Image (1, 299, 299, 3) was rotated 3 clicks.  Rotating it to normal orientation.\n",
      "Image (1, 299, 299, 3) was rotated 1 clicks.  Rotating it to normal orientation.\n",
      "Image (1, 299, 299, 3) was rotated 2 clicks.  Rotating it to normal orientation.\n",
      "Image (1, 299, 299, 3) was rotated 3 clicks.  Rotating it to normal orientation.\n",
      "Image (1, 299, 299, 3) was rotated 1 clicks.  Rotating it to normal orientation.\n",
      "Image (1, 299, 299, 3) was rotated 3 clicks.  Rotating it to normal orientation.\n",
      "Image (1, 299, 299, 3) was rotated 3 clicks.  Rotating it to normal orientation.\n",
      "Image (1, 299, 299, 3) was rotated 3 clicks.  Rotating it to normal orientation.\n",
      "Image (1, 299, 299, 3) was rotated 3 clicks.  Rotating it to normal orientation.\n",
      "Image (1, 299, 299, 3) was rotated 3 clicks.  Rotating it to normal orientation.\n",
      "Image (1, 299, 299, 3) was rotated 1 clicks.  Rotating it to normal orientation.\n",
      "Image (1, 299, 299, 3) was rotated 2 clicks.  Rotating it to normal orientation.\n",
      "Skipping non-image file: e2e_tests/test_fold_0_rand_click/answers.csv\n",
      "Image (1, 299, 299, 3) was rotated 3 clicks.  Rotating it to normal orientation.\n",
      "Image (1, 299, 299, 3) was rotated 1 clicks.  Rotating it to normal orientation.\n",
      "Image (1, 299, 299, 3) was rotated 1 clicks.  Rotating it to normal orientation.\n",
      "Image (1, 299, 299, 3) was rotated 3 clicks.  Rotating it to normal orientation.\n",
      "Image (1, 299, 299, 3) was rotated 2 clicks.  Rotating it to normal orientation.\n",
      "Image (1, 299, 299, 3) was rotated 2 clicks.  Rotating it to normal orientation.\n",
      "Image (1, 299, 299, 3) was rotated 2 clicks.  Rotating it to normal orientation.\n",
      "Image (1, 299, 299, 3) was rotated 2 clicks.  Rotating it to normal orientation.\n",
      "Image (1, 299, 299, 3) was rotated 3 clicks.  Rotating it to normal orientation.\n",
      "Image (1, 299, 299, 3) was rotated 3 clicks.  Rotating it to normal orientation.\n",
      "Image (1, 299, 299, 3) was rotated 2 clicks.  Rotating it to normal orientation.\n",
      "Image (1, 299, 299, 3) was rotated 3 clicks.  Rotating it to normal orientation.\n",
      "Image (1, 299, 299, 3) was rotated 3 clicks.  Rotating it to normal orientation.\n",
      "Image (1, 299, 299, 3) was rotated 2 clicks.  Rotating it to normal orientation.\n",
      "Image (1, 299, 299, 3) was rotated 2 clicks.  Rotating it to normal orientation.\n",
      "Image (1, 299, 299, 3) was rotated 2 clicks.  Rotating it to normal orientation.\n",
      "Image (1, 299, 299, 3) was rotated 1 clicks.  Rotating it to normal orientation.\n",
      "Image (1, 299, 299, 3) was rotated 1 clicks.  Rotating it to normal orientation.\n",
      "Image (1, 299, 299, 3) was rotated 2 clicks.  Rotating it to normal orientation.\n",
      "Image (1, 299, 299, 3) was rotated 1 clicks.  Rotating it to normal orientation.\n",
      "Image (1, 299, 299, 3) was rotated 3 clicks.  Rotating it to normal orientation.\n",
      "Image (1, 299, 299, 3) was rotated 1 clicks.  Rotating it to normal orientation.\n",
      "Image (1, 299, 299, 3) was rotated 3 clicks.  Rotating it to normal orientation.\n",
      "Image (1, 299, 299, 3) was rotated 2 clicks.  Rotating it to normal orientation.\n",
      "Image (1, 299, 299, 3) was rotated 3 clicks.  Rotating it to normal orientation.\n",
      "Image (1, 299, 299, 3) was rotated 2 clicks.  Rotating it to normal orientation.\n",
      "Image (1, 299, 299, 3) was rotated 3 clicks.  Rotating it to normal orientation.\n",
      "Image (1, 299, 299, 3) was rotated 2 clicks.  Rotating it to normal orientation.\n",
      "Image (1, 299, 299, 3) was rotated 3 clicks.  Rotating it to normal orientation.\n",
      "Image (1, 299, 299, 3) was rotated 3 clicks.  Rotating it to normal orientation.\n",
      "Image (1, 299, 299, 3) was rotated 1 clicks.  Rotating it to normal orientation.\n",
      "Image (1, 299, 299, 3) was rotated 2 clicks.  Rotating it to normal orientation.\n",
      "Image (1, 299, 299, 3) was rotated 3 clicks.  Rotating it to normal orientation.\n",
      "Image (1, 299, 299, 3) was rotated 1 clicks.  Rotating it to normal orientation.\n",
      "Image (1, 299, 299, 3) was rotated 3 clicks.  Rotating it to normal orientation.\n",
      "Image (1, 299, 299, 3) was rotated 2 clicks.  Rotating it to normal orientation.\n",
      "Image (1, 299, 299, 3) was rotated 3 clicks.  Rotating it to normal orientation.\n",
      "Image (1, 299, 299, 3) was rotated 2 clicks.  Rotating it to normal orientation.\n",
      "Image (1, 299, 299, 3) was rotated 3 clicks.  Rotating it to normal orientation.\n",
      "Image (1, 299, 299, 3) was rotated 2 clicks.  Rotating it to normal orientation.\n",
      "Image (1, 299, 299, 3) was rotated 3 clicks.  Rotating it to normal orientation.\n",
      "Image (1, 299, 299, 3) was rotated 2 clicks.  Rotating it to normal orientation.\n",
      "Image (1, 299, 299, 3) was rotated 3 clicks.  Rotating it to normal orientation.\n",
      "Image (1, 299, 299, 3) was rotated 3 clicks.  Rotating it to normal orientation.\n",
      "Image (1, 299, 299, 3) was rotated 1 clicks.  Rotating it to normal orientation.\n",
      "Image (1, 299, 299, 3) was rotated 2 clicks.  Rotating it to normal orientation.\n",
      "Image (1, 299, 299, 3) was rotated 2 clicks.  Rotating it to normal orientation.\n",
      "Image (1, 299, 299, 3) was rotated 3 clicks.  Rotating it to normal orientation.\n",
      "Image (1, 299, 299, 3) was rotated 1 clicks.  Rotating it to normal orientation.\n",
      "Image (1, 299, 299, 3) was rotated 2 clicks.  Rotating it to normal orientation.\n",
      "Image (1, 299, 299, 3) was rotated 1 clicks.  Rotating it to normal orientation.\n",
      "Image (1, 299, 299, 3) was rotated 2 clicks.  Rotating it to normal orientation.\n",
      "Image (1, 299, 299, 3) was rotated 3 clicks.  Rotating it to normal orientation.\n",
      "Image (1, 299, 299, 3) was rotated 2 clicks.  Rotating it to normal orientation.\n",
      "Image (1, 299, 299, 3) was rotated 2 clicks.  Rotating it to normal orientation.\n",
      "Image (1, 299, 299, 3) was rotated 3 clicks.  Rotating it to normal orientation.\n",
      "Image (1, 299, 299, 3) was rotated 1 clicks.  Rotating it to normal orientation.\n",
      "Image (1, 299, 299, 3) was rotated 3 clicks.  Rotating it to normal orientation.\n",
      "Image (1, 299, 299, 3) was rotated 2 clicks.  Rotating it to normal orientation.\n",
      "Image (1, 299, 299, 3) was rotated 3 clicks.  Rotating it to normal orientation.\n",
      "Image (1, 299, 299, 3) was rotated 3 clicks.  Rotating it to normal orientation.\n",
      "Image (1, 299, 299, 3) was rotated 1 clicks.  Rotating it to normal orientation.\n",
      "Image (1, 299, 299, 3) was rotated 2 clicks.  Rotating it to normal orientation.\n",
      "Image (1, 299, 299, 3) was rotated 2 clicks.  Rotating it to normal orientation.\n",
      "Image (1, 299, 299, 3) was rotated 1 clicks.  Rotating it to normal orientation.\n",
      "Image (1, 299, 299, 3) was rotated 1 clicks.  Rotating it to normal orientation.\n",
      "Image (1, 299, 299, 3) was rotated 3 clicks.  Rotating it to normal orientation.\n",
      "Image (1, 299, 299, 3) was rotated 1 clicks.  Rotating it to normal orientation.\n",
      "Image (1, 299, 299, 3) was rotated 1 clicks.  Rotating it to normal orientation.\n",
      "Image (1, 299, 299, 3) was rotated 2 clicks.  Rotating it to normal orientation.\n",
      "Image (1, 299, 299, 3) was rotated 3 clicks.  Rotating it to normal orientation.\n",
      "Image (1, 299, 299, 3) was rotated 3 clicks.  Rotating it to normal orientation.\n",
      "Image (1, 299, 299, 3) was rotated 3 clicks.  Rotating it to normal orientation.\n",
      "Image (1, 299, 299, 3) was rotated 1 clicks.  Rotating it to normal orientation.\n",
      "Image (1, 299, 299, 3) was rotated 1 clicks.  Rotating it to normal orientation.\n",
      "Image (1, 299, 299, 3) was rotated 2 clicks.  Rotating it to normal orientation.\n",
      "Image (1, 299, 299, 3) was rotated 2 clicks.  Rotating it to normal orientation.\n",
      "Image (1, 299, 299, 3) was rotated 3 clicks.  Rotating it to normal orientation.\n",
      "Image (1, 299, 299, 3) was rotated 2 clicks.  Rotating it to normal orientation.\n",
      "Image (1, 299, 299, 3) was rotated 2 clicks.  Rotating it to normal orientation.\n",
      "Image (1, 299, 299, 3) was rotated 3 clicks.  Rotating it to normal orientation.\n",
      "Image (1, 299, 299, 3) was rotated 3 clicks.  Rotating it to normal orientation.\n",
      "Image (1, 299, 299, 3) was rotated 2 clicks.  Rotating it to normal orientation.\n",
      "Image (1, 299, 299, 3) was rotated 3 clicks.  Rotating it to normal orientation.\n",
      "Image (1, 299, 299, 3) was rotated 3 clicks.  Rotating it to normal orientation.\n",
      "Image (1, 299, 299, 3) was rotated 3 clicks.  Rotating it to normal orientation.\n",
      "Image (1, 299, 299, 3) was rotated 2 clicks.  Rotating it to normal orientation.\n",
      "Image (1, 299, 299, 3) was rotated 3 clicks.  Rotating it to normal orientation.\n",
      "Image (1, 299, 299, 3) was rotated 3 clicks.  Rotating it to normal orientation.\n",
      "Image (1, 299, 299, 3) was rotated 1 clicks.  Rotating it to normal orientation.\n",
      "Image (1, 299, 299, 3) was rotated 3 clicks.  Rotating it to normal orientation.\n",
      "Image (1, 299, 299, 3) was rotated 1 clicks.  Rotating it to normal orientation.\n",
      "Image (1, 299, 299, 3) was rotated 2 clicks.  Rotating it to normal orientation.\n",
      "Image (1, 299, 299, 3) was rotated 1 clicks.  Rotating it to normal orientation.\n",
      "Image (1, 299, 299, 3) was rotated 1 clicks.  Rotating it to normal orientation.\n"
     ]
    },
    {
     "data": {
      "text/plain": [
       "'classify_results_e2e_tests_test_fold_0_rand_click.csv'"
      ]
     },
     "execution_count": 30,
     "metadata": {},
     "output_type": "execute_result"
    }
   ],
   "source": [
    "clf.process_directory(directory_to_process)"
   ]
  },
  {
   "cell_type": "code",
   "execution_count": null,
   "metadata": {},
   "outputs": [],
   "source": []
  },
  {
   "cell_type": "code",
   "execution_count": null,
   "metadata": {},
   "outputs": [],
   "source": []
  },
  {
   "cell_type": "code",
   "execution_count": null,
   "metadata": {},
   "outputs": [],
   "source": []
  }
 ],
 "metadata": {
  "kernelspec": {
   "display_name": "test_clean",
   "language": "python",
   "name": "test_clean"
  },
  "language_info": {
   "codemirror_mode": {
    "name": "ipython",
    "version": 3
   },
   "file_extension": ".py",
   "mimetype": "text/x-python",
   "name": "python",
   "nbconvert_exporter": "python",
   "pygments_lexer": "ipython3",
   "version": "3.7.2"
  }
 },
 "nbformat": 4,
 "nbformat_minor": 4
}
