{
 "cells": [
  {
   "cell_type": "markdown",
   "metadata": {},
   "source": [
    "-----\n",
    "## Dataset Management Utilities\n",
    "\n",
    "This file creates the load_and_preprocess_data.py file, then imports it and runs some tests on the methods to confirm they are working as expected."
   ]
  },
  {
   "cell_type": "code",
   "execution_count": 1,
   "metadata": {},
   "outputs": [],
   "source": [
    "import os\n",
    "import numpy as np\n",
    "import matplotlib.pyplot as plt"
   ]
  },
  {
   "cell_type": "code",
   "execution_count": 2,
   "metadata": {},
   "outputs": [],
   "source": [
    "%load_ext autoreload\n",
    "%autoreload 2"
   ]
  },
  {
   "cell_type": "code",
   "execution_count": 19,
   "metadata": {},
   "outputs": [
    {
     "name": "stdout",
     "output_type": "stream",
     "text": [
      "Overwriting load_and_preprocess_data.py\n"
     ]
    }
   ],
   "source": [
    "%%writefile load_and_preprocess_data.py\n",
    "import os\n",
    "import numpy as np\n",
    "import matplotlib.pyplot as plt\n",
    "import seaborn as sns\n",
    "from collections import defaultdict, Counter\n",
    "from sklearn.model_selection import KFold\n",
    "\n",
    "class TrainDataInfo:\n",
    "    def __init__(self, file_map, country_names, country_counts, sampling_probs, weight_scalars):\n",
    "        '''\n",
    "        Make copies of all the inputs, then we'll define a few accessor methods\n",
    "        '''\n",
    "        self.filename_map = file_map.copy()     # dict(country_name -> filename_list)\n",
    "        self.country_names = country_names[:]   # sorted country names\n",
    "        self.sampling_probs = sampling_probs[:] # sampling probabilities (sorted by name)\n",
    "        self.weight_scalars = weight_scalars[:] # loss fn weight scalars (sorted by name)\n",
    "        \n",
    "        self.country_counts = [len(self.filename_map[c]) for c in self.country_names]\n",
    "        \n",
    "    # The vectors above are stored in country-name sorted order, even though filename_map\n",
    "    # doesn't have any ordering.  But it is still nice to be able to query values by name.\n",
    "    def get_country_count(self, country):\n",
    "        return self.country_counts[self.country_names.index(country)]\n",
    "    \n",
    "    def get_sampling_prob(self, country):\n",
    "        return self.sampling_probs[self.country_names.index(country)]\n",
    "    \n",
    "    def get_weight_scalars(self, country):\n",
    "        return self.weight_scalars[self.country_names.index(country)]\n",
    "   "
   ]
  },
  {
   "cell_type": "code",
   "execution_count": 71,
   "metadata": {},
   "outputs": [
    {
     "name": "stdout",
     "output_type": "stream",
     "text": [
      "Appending to load_and_preprocess_data.py\n"
     ]
    }
   ],
   "source": [
    "%%writefile -a load_and_preprocess_data.py\n",
    "    \n",
    "def collect_filename_mapping(train_folder):\n",
    "    file_map = defaultdict(lambda: list())\n",
    "    country_counts = []\n",
    "\n",
    "    for root,subs,files in os.walk(train_folder):\n",
    "        country = os.path.split(root.lstrip(train_folder))[1]\n",
    "        if len(country.strip()) == 0:\n",
    "            continue\n",
    "\n",
    "        for f in files:\n",
    "            if not os.path.splitext(f)[1].lower() in ['.jpg', '.jpeg', '.png', '.bmp']:\n",
    "                continue\n",
    "\n",
    "            file_map[country].append(os.path.join(root, f))\n",
    "\n",
    "    # Sorted names, which will match the sampling probs and weight vectors\n",
    "    country_names = sorted(file_map.keys())\n",
    "    country_counts = [len(file_map[c]) for c in country_names]\n",
    "    for country in country_names:\n",
    "        file_map[country] = sorted(file_map[country])\n",
    "        \n",
    "    # We're going to sample from the classes proportional to sqrt(N)\n",
    "    sampling_probs = np.sqrt(np.array(country_counts)) \n",
    "    sampling_probs = sampling_probs / np.sum(sampling_probs)\n",
    "\n",
    "    # When we actually do training, we want to scale gradient updates by 1/sqrt(N)\n",
    "    weight_scalars = 1.0 / sampling_probs\n",
    "    #weight_scalars = weight_scalars / min(weight_scalars)\n",
    "    weight_scalars = np.clip(weight_scalars / np.mean(weight_scalars), 0.8, 2.0)\n",
    "\n",
    "    return TrainDataInfo(file_map, country_names, country_counts, sampling_probs, weight_scalars)\n",
    "\n",
    "\n",
    "def get_kfold_train_test(ds_size, shards=5, shard_test_index=None, shuffle=True):\n",
    "    kf = KFold(n_splits=shards, shuffle=shuffle, random_state=31415926)\n",
    "    if shard_test_index is None:\n",
    "        return [(train,test) for train,test in kf.split(range(ds_size))]\n",
    "    else:\n",
    "        # We're looking for a specific split.  But kf.split() produces \n",
    "        # a generator, so you have to iterate if you want a specific one\n",
    "        for i,traintest in enumerate(kf.split(range(ds_size))):\n",
    "            if i == shard_test_index:\n",
    "                return traintest\n",
    "        else:\n",
    "            raise Exception('Something went terribly wrong!')\n",
    "    \n",
    "    \n",
    "def distributed_train_test_split(all_fn_map, shards=5, shard_test_index=0):\n",
    "    \"\"\"\n",
    "    We are going to do a test-train split but within each class/country, so that we can\n",
    "    manage sampling rates (oversampling Armenia, Australia, undersampling Russia, etc)\n",
    "    \"\"\"\n",
    "    train_fn_map = defaultdict(lambda: [])\n",
    "    val_fn_map = defaultdict(lambda: [])\n",
    "    \n",
    "    for country,fn_list in all_fn_map.items():\n",
    "        n_files = len(fn_list)\n",
    "        train_indices, test_indices = get_kfold_train_test(n_files, shards, shard_test_index)\n",
    "        train_fn_map[country] = [all_fn_map[country][i] for i in train_indices]\n",
    "        val_fn_map[country] = [all_fn_map[country][i] for i in test_indices]\n",
    "    \n",
    "    return train_fn_map, val_fn_map\n",
    "\n",
    "\n",
    "def get_country_sample(n_country, names, sampling_probs, *, with_replace):\n",
    "    \"\"\"\n",
    "    For triplet loss, need 2 no replacement; general training needs batch size w/ replacement\n",
    "    This should be called with names and probs from the master train_info object\n",
    "    \"\"\"\n",
    "    if not with_replace and n_country > len(names):\n",
    "        raise Exception(f'Cannot take {n_country} samples w/o replacement, list size is {len(names)}')\n",
    "        \n",
    "    idx_choice = np.random.choice(len(names), size=n_country, p=sampling_probs, replace=with_replace)\n",
    "    \n",
    "    # We actually need to return the number of images to pull from each country\n",
    "    counts = Counter([names[i] for i in idx_choice])\n",
    "    return counts\n",
    "\n",
    "\n",
    "def get_image_fn_sample(fn_map, n_img, country, *, with_replace):\n",
    "    \"\"\"\n",
    "    Given the filename mapping, select {n_img} images for the specified country\n",
    "    This should be called with training set of the split dataset\n",
    "    \"\"\"\n",
    "    if not with_replace and n_img > len(fn_map[country]):\n",
    "        raise Exception(f'Cannot take {count} samples w/o replacement, list size is {len(names)}')\n",
    "        \n",
    "    return np.random.choice(fn_map[country], size=n_img, replace=with_replace)\n",
    "    \n",
    "    \n",
    "\n",
    "def display_rel_counts(train_info):\n",
    "        \n",
    "    trunc_names = [n[:12] for n in train_info.country_names]\n",
    "    counts = train_info.country_counts \n",
    "    sample_rates = train_info.sampling_probs\n",
    "    weights = train_info.weight_scalars\n",
    "    \n",
    "    fig,axs = plt.subplots(1, 3, figsize=(15,5))\n",
    "    \n",
    "    sns.barplot(trunc_names, counts, ax=axs[0])\n",
    "    axs[0].plot([-1, len(counts)], [min(counts)]*2, 'r-.')\n",
    "    axs[0].plot([-1, len(counts)], [max(counts)]*2, 'r-.')\n",
    "    axs[0].set_title('Number of Files per Class')\n",
    "    axs[0].set_ylabel('Raw Image/File Count')\n",
    "    for tick in axs[0].get_xticklabels():\n",
    "        tick.set_rotation(90)\n",
    "    \n",
    "    sns.barplot(trunc_names, sample_rates, ax=axs[1])\n",
    "    axs[1].plot([-1, len(counts)], [min(sample_rates)]*2, 'r-.')\n",
    "    axs[1].plot([-1, len(counts)], [max(sample_rates)]*2, 'r-.')\n",
    "    axs[1].set_title('Sampling Probabilities for Training')\n",
    "    axs[1].set_ylabel('Sampling Probability')\n",
    "    for tick in axs[1].get_xticklabels():\n",
    "        tick.set_rotation(90)\n",
    "                        \n",
    "    sns.barplot(trunc_names, weights, ax=axs[2])\n",
    "    axs[2].set_title('Loss Function Weighting')\n",
    "    axs[2].set_ylabel('Relative weight')\n",
    "    axs[2].plot([-1, len(counts)], [1.0, 1.0], 'r-.')\n",
    "    for tick in axs[2].get_xticklabels():\n",
    "        tick.set_rotation(90)"
   ]
  },
  {
   "cell_type": "markdown",
   "metadata": {},
   "source": [
    "-----\n",
    "## Testing Utility Methods\n",
    "Test the methods above to confirm they do what we expect them to.  Since some of these are randomization utilities, it would be a lot of work to verify them automatically, so instead we will just visually inspect results."
   ]
  },
  {
   "cell_type": "code",
   "execution_count": 72,
   "metadata": {},
   "outputs": [],
   "source": [
    "# Above cell simply wrote out the .py file.  Need to import it now.\n",
    "from load_and_preprocess_data import *"
   ]
  },
  {
   "cell_type": "code",
   "execution_count": 73,
   "metadata": {},
   "outputs": [
    {
     "name": "stdout",
     "output_type": "stream",
     "text": [
      "Country Armenia                        has 11 images\n",
      "Country Australia                      has 35 images\n",
      "Country Germany                        has 107 images\n",
      "Country Hungary+Slovakia+Croatia       has 49 images\n",
      "Country Indonesia-Bali                 has 45 images\n",
      "Country Japan                          has 62 images\n",
      "Country Malaysia+Indonesia             has 55 images\n",
      "Country Portugal+Brazil                has 54 images\n",
      "Country Russia                         has 124 images\n",
      "Country Spain                          has 68 images\n",
      "Country Thailand                       has 104 images\n",
      "Total image count across all countries: 714\n"
     ]
    }
   ],
   "source": [
    "train_info = collect_filename_mapping('train_imgs')\n",
    "total_imgs = 0\n",
    "fn_map = train_info.filename_map\n",
    "\n",
    "# These are primarily for display purposes\n",
    "for country in train_info.country_names:\n",
    "    n_imgs = train_info.get_country_count(country)\n",
    "    total_imgs += n_imgs\n",
    "    print(f'Country {country.ljust(30)} has {n_imgs} images')\n",
    "print(f'Total image count across all countries: {total_imgs}')"
   ]
  },
  {
   "cell_type": "markdown",
   "metadata": {},
   "source": [
    "## Sampling Probabilities and Loss Function Weighting\n",
    "The method should have provided us w"
   ]
  },
  {
   "cell_type": "code",
   "execution_count": 74,
   "metadata": {},
   "outputs": [
    {
     "name": "stdout",
     "output_type": "stream",
     "text": [
      "\n",
      "Russia has 11.3x as many images as Armenia\n",
      "Reduced to  3.4x by using sqrt(N) for sampling rates\n",
      "This effectively undersamples the countries with high counts, oversamples low counts\n",
      "Further, we will multiple gradients by a weighting factor, higher for smaller counts\n",
      "\n"
     ]
    },
    {
     "data": {
      "image/png": "[encoded data removed]",
      "text/plain": [
       "<Figure size 1080x360 with 3 Axes>"
      ]
     },
     "metadata": {
      "needs_background": "light"
     },
     "output_type": "display_data"
    }
   ],
   "source": [
    "display_rel_counts(train_info)\n",
    "\n",
    "all_counts = train_info.country_counts\n",
    "max_idx = np.argmax(all_counts)\n",
    "min_idx = np.argmin(all_counts)\n",
    "max_name = train_info.country_names[max_idx]\n",
    "min_name = train_info.country_names[min_idx]\n",
    "ratio_counts =  train_info.country_counts[max_idx] / float(train_info.country_counts[min_idx])\n",
    "ratio_sample =  train_info.sampling_probs[max_idx] / train_info.sampling_probs[min_idx]\n",
    "print('')\n",
    "print(f'{max_name} has {ratio_counts:.1f}x as many images as {min_name}')\n",
    "print(f'Reduced to  {ratio_sample:.1f}x by using sqrt(N) for sampling rates')\n",
    "print(f'This effectively undersamples the countries with high counts, oversamples low counts')\n",
    "print(f'Further, we will multiple gradients by a weighting factor, higher for smaller counts')\n",
    "print('')"
   ]
  },
  {
   "cell_type": "code",
   "execution_count": 33,
   "metadata": {},
   "outputs": [
    {
     "name": "stdout",
     "output_type": "stream",
     "text": [
      "Training data:\n",
      "   Samples from country Australia                     : 28 / 35\n",
      "   Samples from country Thailand                      : 83 / 104\n",
      "   Samples from country Indonesia-Bali                : 36 / 45\n",
      "   Samples from country Portugal+Brazil               : 43 / 54\n",
      "   Samples from country Germany                       : 85 / 107\n",
      "   Samples from country Malaysia+Indonesia            : 44 / 55\n",
      "   Samples from country Spain                         : 54 / 68\n",
      "   Samples from country Russia                        : 99 / 124\n",
      "   Samples from country Hungary+Slovakia+Croatia      : 39 / 49\n",
      "   Samples from country Japan                         : 49 / 62\n",
      "   Samples from country Armenia                       : 8 / 11\n",
      "\n",
      "Testing data:\n",
      "   Samples from country Australia                     : 7 / 35\n",
      "   Samples from country Thailand                      : 21 / 104\n",
      "   Samples from country Indonesia-Bali                : 9 / 45\n",
      "   Samples from country Portugal+Brazil               : 11 / 54\n",
      "   Samples from country Germany                       : 22 / 107\n",
      "   Samples from country Malaysia+Indonesia            : 11 / 55\n",
      "   Samples from country Spain                         : 14 / 68\n",
      "   Samples from country Russia                        : 25 / 124\n",
      "   Samples from country Hungary+Slovakia+Croatia      : 10 / 49\n",
      "   Samples from country Japan                         : 13 / 62\n",
      "   Samples from country Armenia                       : 3 / 11\n",
      "\n",
      "Sample entries for Armenia\n",
      "   train_imgs/Armenia/Armenia_095.JPG\n",
      "   train_imgs/Armenia/Echmiadzin_005.JPG\n",
      "   train_imgs/Armenia/Echmiadzin_011.JPG\n",
      "   train_imgs/Armenia/Echmiadzin_026.JPG\n",
      "   train_imgs/Armenia/Echmiadzin_031.JPG\n",
      "   train_imgs/Armenia/Echmiadzin_033.JPG\n",
      "   train_imgs/Armenia/Garni_009.JPG\n",
      "   train_imgs/Armenia/Garni_012.JPG\n",
      "   train_imgs/Armenia/Garni_023.JPG\n",
      "   train_imgs/Armenia/Yerevan_026.JPG\n",
      "   train_imgs/Armenia/Yerevan_031.JPG\n"
     ]
    }
   ],
   "source": [
    "train_spl, test_spl = distributed_train_test_split(train_info.filename_map, shards=5, shard_test_index=0)\n",
    "\n",
    "print('Training data:')\n",
    "for country, fn_list in train_spl.items():\n",
    "    n_total = train_info.country_counts[train_info.country_names.index(country)]\n",
    "    print(f'   Samples from country {country.ljust(30)}: {len(fn_list)} / {n_total}')\n",
    "    \n",
    "print('\\nTesting data:')\n",
    "for country, fn_list in test_spl.items():\n",
    "    n_total = train_info.country_counts[train_info.country_names.index(country)]\n",
    "    print(f'   Samples from country {country.ljust(30)}: {len(fn_list)} / {n_total}')\n",
    "    \n",
    "country = train_info.country_names[0]\n",
    "print(f'\\nSample entries for {country}')\n",
    "for fn in train_info.filename_map[country]:\n",
    "    print('  ', fn)\n"
   ]
  },
  {
   "cell_type": "code",
   "execution_count": 61,
   "metadata": {},
   "outputs": [
    {
     "name": "stdout",
     "output_type": "stream",
     "text": [
      "Here is an example batch of 100 images, sampled using sqrt(N) probs:\n",
      "  4  images for country Australia\n",
      "  5  images for country Armenia\n",
      "  7  images for country Hungary+Slovakia+Croatia\n",
      "  7  images for country Japan\n",
      "  8  images for country Indonesia-Bali\n",
      "  10  images for country Germany\n",
      "  10  images for country Thailand\n",
      "  11  images for country Malaysia+Indonesia\n",
      "  12  images for country Portugal+Brazil\n",
      "  12  images for country Spain\n",
      "  14  images for country Russia\n"
     ]
    }
   ],
   "source": [
    "c_names = train_info.country_names\n",
    "s_probs = train_info.sampling_probs\n",
    "\n",
    "print('Here is an example batch of 100 images, sampled using sqrt(N) probs:')\n",
    "sample_counts = get_country_sample(100, c_names, s_probs, with_replace=True)\n",
    "for ct, country in sorted([(ct,country) for country,ct in sample_counts.items()]):\n",
    "    print(f'  {ct}  images for country {country}')"
   ]
  },
  {
   "cell_type": "code",
   "execution_count": 66,
   "metadata": {},
   "outputs": [
    {
     "name": "stdout",
     "output_type": "stream",
     "text": [
      "Sampling without replacement seems to work\n"
     ]
    }
   ],
   "source": [
    "# Test no-replacement \n",
    "for i in range(1000):\n",
    "    two_countries = get_country_sample(2, c_names, s_probs, with_replace=False)\n",
    "    assert len(two_countries) == 2\n",
    "else:\n",
    "    print('Sampling without replacement seems to work')\n",
    "    "
   ]
  },
  {
   "cell_type": "code",
   "execution_count": null,
   "metadata": {},
   "outputs": [],
   "source": []
  },
  {
   "cell_type": "code",
   "execution_count": null,
   "metadata": {},
   "outputs": [],
   "source": []
  },
  {
   "cell_type": "code",
   "execution_count": null,
   "metadata": {},
   "outputs": [],
   "source": []
  },
  {
   "cell_type": "code",
   "execution_count": null,
   "metadata": {},
   "outputs": [],
   "source": []
  }
 ],
 "metadata": {
  "kernelspec": {
   "display_name": "venv2",
   "language": "python",
   "name": "venv2"
  },
  "language_info": {
   "codemirror_mode": {
    "name": "ipython",
    "version": 3
   },
   "file_extension": ".py",
   "mimetype": "text/x-python",
   "name": "python",
   "nbconvert_exporter": "python",
   "pygments_lexer": "ipython3",
   "version": "3.7.2"
  }
 },
 "nbformat": 4,
 "nbformat_minor": 4
}
