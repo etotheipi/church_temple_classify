{
 "cells": [
  {
   "cell_type": "code",
   "execution_count": 1,
   "metadata": {},
   "outputs": [
    {
     "name": "stderr",
     "output_type": "stream",
     "text": [
      "/home/alan/projects/venv-jupyter/lib/python3.7/site-packages/pandas/compat/__init__.py:84: UserWarning: Could not import the lzma module. Your installed Python is incomplete. Attempting to use lzma compression will result in a RuntimeError.\n",
      "  warnings.warn(msg)\n"
     ]
    },
    {
     "name": "stdout",
     "output_type": "stream",
     "text": [
      "OS Type: posix\n",
      "OS Name: Linux\n",
      "OS Release: 4.15.0-50-generic\n",
      "Using Python=3.7.2 (default, Mar 30 2019, 15:56:42) \n",
      "[GCC 5.4.0 20160609]\n",
      "Using Tensorflow=2.0.0-rc2\n",
      "Using Keras=2.2.4-tf\n",
      "GPU Available:  True\n"
     ]
    }
   ],
   "source": [
    "import os\n",
    "import platform\n",
    "import sys\n",
    "import ipywidgets as widgets\n",
    "from IPython.display import display\n",
    "from IPython.core.debugger import set_trace\n",
    " \n",
    "import matplotlib.pyplot as plt\n",
    "import numpy as np\n",
    "import pandas as pd\n",
    "import seaborn as sns\n",
    "from sklearn.model_selection import train_test_split\n",
    "from sklearn import preprocessing\n",
    " \n",
    "import tensorflow as tf\n",
    "from tensorflow import keras\n",
    "import tensorflow.keras.layers as L\n",
    "import tensorflow.keras.backend as K\n",
    "import tensorflow_probability as tfp\n",
    "from tqdm import tqdm\n",
    "%matplotlib inline\n",
    " \n",
    "print(\"OS Type: %s\" % os.name)\n",
    "print(\"OS Name: %s\" % platform.system())\n",
    "print(\"OS Release: %s\" % platform.release())\n",
    "print(f'Using Python={sys.version}')\n",
    "print(f'Using Tensorflow={tf.__version__}')\n",
    "print(f'Using Keras={keras.__version__}')\n",
    "print(\"GPU Available: \", tf.test.is_gpu_available())\n"
   ]
  },
  {
   "cell_type": "code",
   "execution_count": 10,
   "metadata": {},
   "outputs": [],
   "source": [
    "%load_ext autoreload\n",
    "%autoreload 2"
   ]
  },
  {
   "cell_type": "code",
   "execution_count": 17,
   "metadata": {},
   "outputs": [
    {
     "name": "stdout",
     "output_type": "stream",
     "text": [
      "Overwriting image_augmentation.py\n"
     ]
    }
   ],
   "source": [
    "%%writefile image_augmentation.py\n",
    "import os\n",
    "import numpy as np\n",
    "import pandas as pd\n",
    "import cv2\n",
    " \n",
    "import tensorflow as tf\n",
    "from tensorflow.keras import preprocessing as preproc\n",
    "\n",
    "def load_raw_image(filename):\n",
    "    return cv2.imread(filename)\n",
    "\n",
    "def apply_augmentations(zoom, bright, shift, shear, rotate):\n",
    "    "
   ]
  },
  {
   "cell_type": "code",
   "execution_count": 18,
   "metadata": {},
   "outputs": [],
   "source": [
    "from image_augmentation import *"
   ]
  },
  {
   "cell_type": "code",
   "execution_count": 20,
   "metadata": {},
   "outputs": [
    {
     "name": "stdout",
     "output_type": "stream",
     "text": [
      "train_imgs/Russia/Alexandrov_008.jpg\n",
      "[[[122  82  24]\n",
      "  [122  82  24]\n",
      "  [122  82  24]\n",
      "  ...\n",
      "  [ 53  56  60]\n",
      "  [ 49  52  56]\n",
      "  [ 49  52  56]]\n",
      "\n",
      " [[122  82  24]\n",
      "  [122  82  24]\n",
      "  [122  82  24]\n",
      "  ...\n",
      "  [ 51  54  58]\n",
      "  [ 45  48  52]\n",
      "  [ 45  48  52]]\n",
      "\n",
      " [[122  82  24]\n",
      "  [122  82  24]\n",
      "  [122  82  24]\n",
      "  ...\n",
      "  [ 46  48  49]\n",
      "  [ 38  40  41]\n",
      "  [ 38  40  41]]\n",
      "\n",
      " ...\n",
      "\n",
      " [[122  93  66]\n",
      "  [122  93  66]\n",
      "  [122  93  66]\n",
      "  ...\n",
      "  [120  96  78]\n",
      "  [120  96  78]\n",
      "  [120  96  78]]\n",
      "\n",
      " [[122  93  66]\n",
      "  [122  93  66]\n",
      "  [122  93  66]\n",
      "  ...\n",
      "  [120  96  78]\n",
      "  [120  96  78]\n",
      "  [120  96  78]]\n",
      "\n",
      " [[122  93  66]\n",
      "  [122  93  66]\n",
      "  [122  93  66]\n",
      "  ...\n",
      "  [120  96  78]\n",
      "  [120  96  78]\n",
      "  [120  96  78]]]\n"
     ]
    },
    {
     "ename": "AttributeError",
     "evalue": "'NoneType' object has no attribute 'shape'",
     "output_type": "error",
     "traceback": [
      "\u001b[0;31m---------------------------------------------------------------------------\u001b[0m",
      "\u001b[0;31mAttributeError\u001b[0m                            Traceback (most recent call last)",
      "\u001b[0;32m<ipython-input-20-d1551cd0a0dc>\u001b[0m in \u001b[0;36m<module>\u001b[0;34m\u001b[0m\n\u001b[1;32m      2\u001b[0m \u001b[0mtrain_info\u001b[0m \u001b[0;34m=\u001b[0m \u001b[0mcollect_filename_mapping\u001b[0m\u001b[0;34m(\u001b[0m\u001b[0;34m'train_imgs'\u001b[0m\u001b[0;34m)\u001b[0m\u001b[0;34m\u001b[0m\u001b[0;34m\u001b[0m\u001b[0m\n\u001b[1;32m      3\u001b[0m \u001b[0;34m\u001b[0m\u001b[0m\n\u001b[0;32m----> 4\u001b[0;31m \u001b[0mload_image\u001b[0m\u001b[0;34m(\u001b[0m\u001b[0mtrain_info\u001b[0m\u001b[0;34m.\u001b[0m\u001b[0mfilename_map\u001b[0m\u001b[0;34m[\u001b[0m\u001b[0;34m'Russia'\u001b[0m\u001b[0;34m]\u001b[0m\u001b[0;34m[\u001b[0m\u001b[0;36m0\u001b[0m\u001b[0;34m]\u001b[0m\u001b[0;34m)\u001b[0m\u001b[0;34m.\u001b[0m\u001b[0mshape\u001b[0m\u001b[0;34m\u001b[0m\u001b[0;34m\u001b[0m\u001b[0m\n\u001b[0m",
      "\u001b[0;31mAttributeError\u001b[0m: 'NoneType' object has no attribute 'shape'"
     ]
    }
   ],
   "source": [
    "from load_and_preprocess_data import *\n",
    "train_info = collect_filename_mapping('train_imgs')\n",
    "\n",
    "load_image(train_info.filename_map['Russia'][0]).shape"
   ]
  },
  {
   "cell_type": "code",
   "execution_count": null,
   "metadata": {},
   "outputs": [],
   "source": []
  }
 ],
 "metadata": {
  "kernelspec": {
   "display_name": "venv2",
   "language": "python",
   "name": "venv2"
  },
  "language_info": {
   "codemirror_mode": {
    "name": "ipython",
    "version": 3
   },
   "file_extension": ".py",
   "mimetype": "text/x-python",
   "name": "python",
   "nbconvert_exporter": "python",
   "pygments_lexer": "ipython3",
   "version": "3.7.2"
  }
 },
 "nbformat": 4,
 "nbformat_minor": 4
}
